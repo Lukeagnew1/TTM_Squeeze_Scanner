{
 "cells": [
  {
   "cell_type": "code",
   "execution_count": 1,
   "id": "da0f0826-4e1b-42c7-95cf-181ee217de0e",
   "metadata": {},
   "outputs": [],
   "source": [
    "# This program is a stock scanner based on John Carter's \"TTM Squeeze\" volatility indicator. Black crosses on the midline show that the market just entered a squeeze (Bollinger Bands \n",
    "# are with in Keltner Channels). This signifies low volatility, market preparing itself for an explosive move (up or down)"
   ]
  },
  {
   "cell_type": "code",
   "execution_count": 2,
   "id": "10993f34-ea60-40f5-9958-d0cf3e28b119",
   "metadata": {},
   "outputs": [],
   "source": [
    "# Import Libraries \n",
    "\n",
    "import pandas as pd \n",
    "import os \n",
    "import yfinance as yf\n",
    "import plotly.graph_objects as go\n",
    "from datetime import datetime\n",
    "%matplotlib inline "
   ]
  },
  {
   "cell_type": "code",
   "execution_count": null,
   "id": "22566801-33ff-4df1-a015-b54c4d6b1a28",
   "metadata": {},
   "outputs": [],
   "source": [
    "# Import all price data for stocks in the Nasdaq 100 from yfinance  \n",
    "\n",
    "with open('n100.csv') as f:\n",
    "    lines = f.read().splitlines()\n",
    "    for symbol in lines:\n",
    "        print(symbol)\n",
    "        data = yf.download(symbol,start='2021-06-01',end='2021-08-27')\n",
    "        data.to_csv('datasets/{}.csv'.format(symbol))"
   ]
  },
  {
   "cell_type": "code",
   "execution_count": 39,
   "id": "a3b558c7-108e-4619-9aa0-20fd6fc2aeb3",
   "metadata": {},
   "outputs": [],
   "source": [
    "# Create Bollinger Bands. Bollinger band are a technical analysis tool developed by John Bollinger for generating oversold and overbought signals. There are three lines that compose Bollinger \n",
    "# Bands: A simple moving average (middle band) and an upper and lower band. The upper and lower bands are typically 2 standard deviations +/- from a 20-day simple moving average, but can be \n",
    "# modified"
   ]
  },
  {
   "cell_type": "code",
   "execution_count": 3,
   "id": "699d8947-c376-444c-a6b4-74c8761daa17",
   "metadata": {},
   "outputs": [],
   "source": [
    "symbols = ['AAPL']"
   ]
  },
  {
   "cell_type": "code",
   "execution_count": 12,
   "id": "4d656459-3f22-4f2e-af5a-ad089772318d",
   "metadata": {},
   "outputs": [
    {
     "name": "stdout",
     "output_type": "stream",
     "text": [
      "AAPL is in the squeeze\n",
      "ADI is in the squeeze\n",
      "AEP is in the squeeze\n",
      "ALGN is in the squeeze\n",
      "AMD is in the squeeze\n",
      "ATVI is in the squeeze\n",
      "AVGO is in the squeeze\n",
      "BIIB is in the squeeze\n",
      "CMCSA is in the squeeze\n",
      "CTAS is in the squeeze\n",
      "DXCM is in the squeeze\n",
      "FAST is in the squeeze\n",
      "FB is in the squeeze\n",
      "FOX is in the squeeze\n",
      "HON is in the squeeze\n",
      "IDXX is in the squeeze\n",
      "KDP is in the squeeze\n",
      "MXIM is in the squeeze\n",
      "ORLY is in the squeeze\n",
      "PCAR is in the squeeze\n",
      "PYPL is in the squeeze\n",
      "ROST is in the squeeze\n",
      "VRTX is in the squeeze\n",
      "XEL is in the squeeze\n"
     ]
    }
   ],
   "source": [
    "for filename in os.listdir('datasets'):\n",
    "    #print(filename)\n",
    "    symbol = filename.split('.')[0]\n",
    "    #print(symbol)\n",
    "    df = pd.read_csv('datasets/{}'.format(filename))\n",
    "    #print(df)\n",
    "    if df.empty:\n",
    "        continue\n",
    "    # create middle bollinger band with a 20 day SMA using .rolling(window=20).mean()\n",
    "    df['20sma'] = df['Close'].rolling(window=20).mean()\n",
    "    # calculate the standard deviation of the close to make upper and lower bands\n",
    "    df['stddev'] = df['Close'].rolling(window=20).std()\n",
    "    #create upper and lower band\n",
    "    df['lowerband'] = df['20sma'] - (2 * df['stddev'])\n",
    "    df['upperband'] = df['20sma'] + (2 * df['stddev'])\n",
    "# Build Keltner Channels: There are three steps to calculating Keltner Channels. First, select the length for the exponential moving average. Second, choose the time period for the Average True Range\n",
    "# (ATR). Third, choose the multiplier for the Average True Range. abs = absolute value \n",
    "    df['TR'] = abs(df['High'] - df['Low'])\n",
    "    df['ATR'] = df['TR'].rolling(window=20).mean()\n",
    "    \n",
    "    df['upperkeltner'] = df['20sma'] + (df['ATR'] * 1.5)\n",
    "    df['lowerkeltner'] = df['20sma'] - (df['ATR'] * 1.5)\n",
    "    \n",
    "    #create a function for finding squeezes. The upper bollinger band needs to be lower then the top keltner band. The lower bollinger band needs to be above the bottom keltner\n",
    "    def in_squeeze(df):\n",
    "        return df['lowerband'] > df['lowerkeltner'] and df['upperband'] < df['upperkeltner']\n",
    "    \n",
    "    df['squeeze_on'] = df.apply(in_squeeze, axis=1)\n",
    "    \n",
    "    if df.iloc[-1]['squeeze_on']:\n",
    "        print(\"{} is in the squeeze\".format(symbol))\n",
    "        \n",
    "    \n",
    "    \n",
    "    \n",
    "#    if symbol in symbols:\n",
    "#        print(df)\n",
    "#        aapl_df = df\n",
    "    \n",
    "    # Graph the data in candlesticks \n",
    "# candlestick = go.Candlestick(x=df['Date'],open=aapl_df['Open'],high=aapl_df['High'],low=aapl_df['Low'],close=aapl_df['Close'])\n",
    "\n",
    "# upper_band = go.Scatter(x=aapl_df['Date'], y=aapl_df['upperband'], name='Upper Bollinger Band', line={'color': 'red'})\n",
    "# lower_band = go.Scatter(x=aapl_df['Date'], y=aapl_df['lowerband'], name='Lower Bollinger Band', line={'color': 'red'})\n",
    "# upper_keltner = go.Scatter(x=aapl_df['Date'], y=aapl_df['upperkeltner'], name='Upper Kelnter Band', line={'color': 'Blue'})\n",
    "# lower_keltner = go.Scatter(x=aapl_df['Date'], y=aapl_df['lowerkeltner'], name='Lower Keltner Band', line={'color': 'Blue'})\n",
    "\n",
    "# fig = go.Figure(data=[candlestick, upper_band, lower_band, upper_keltner, lower_keltner])\n",
    "# Get rid of the missing candlesticks ie. the weekends\n",
    "# fig.layout.xaxis.type = 'category'\n",
    "# fig.layout.xaxis.rangeslider.visible = False\n",
    "\n",
    "# fig.show()"
   ]
  },
  {
   "cell_type": "code",
   "execution_count": 29,
   "id": "7ca72f39-b7b9-42b8-8497-f26940ae59ca",
   "metadata": {},
   "outputs": [],
   "source": [
    "# Build Keltner Channels: There are three steps to calculating Keltner Channels. First, select the length for the exponential moving average. Second, choose the time period for the Average True Range\n",
    "# (ATR). Third, choose the multiplier for the Average True Range "
   ]
  }
 ],
 "metadata": {
  "kernelspec": {
   "display_name": "Python 3",
   "language": "python",
   "name": "python3"
  },
  "language_info": {
   "codemirror_mode": {
    "name": "ipython",
    "version": 3
   },
   "file_extension": ".py",
   "mimetype": "text/x-python",
   "name": "python",
   "nbconvert_exporter": "python",
   "pygments_lexer": "ipython3",
   "version": "3.7.10"
  }
 },
 "nbformat": 4,
 "nbformat_minor": 5
}
